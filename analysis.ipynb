{
 "cells": [
  {
   "cell_type": "code",
   "execution_count": 1,
   "metadata": {},
   "outputs": [
    {
     "name": "stderr",
     "output_type": "stream",
     "text": [
      "/Users/loky/Repositories/false_friends/.venv/lib/python3.9/site-packages/urllib3/__init__.py:35: NotOpenSSLWarning: urllib3 v2 only supports OpenSSL 1.1.1+, currently the 'ssl' module is compiled with 'LibreSSL 2.8.3'. See: https://github.com/urllib3/urllib3/issues/3020\n",
      "  warnings.warn(\n"
     ]
    },
    {
     "name": "stdout",
     "output_type": "stream",
     "text": [
      "Setup complete. Ready to load data.\n"
     ]
    }
   ],
   "source": [
    "# analysis.ipynb cell (Final version)\n",
    "import pandas as pd\n",
    "import sys\n",
    "import os\n",
    "\n",
    "# Add the project's root directory to the Python path\n",
    "module_path = os.path.abspath(os.path.join('..'))\n",
    "if module_path not in sys.path:\n",
    "    sys.path.append(module_path)\n",
    "\n",
    "from lib.data_loader import populate_database\n",
    "from lib.analysis import find_all_false_friends\n",
    "from lib.config import DB_CONFIG\n",
    "\n",
    "# Set pandas display options\n",
    "pd.set_option('display.max_rows', 200)\n",
    "pd.set_option('display.max_colwidth', 200)\n",
    "pd.set_option('display.width', 1000)\n",
    "\n",
    "print(\"Setup complete. Ready to load data.\")\n"
   ]
  },
  {
   "cell_type": "code",
   "execution_count": 2,
   "metadata": {},
   "outputs": [
    {
     "name": "stdout",
     "output_type": "stream",
     "text": [
      "Initializing database 'lang_db'...\n",
      "Database initialized successfully.\n",
      "\n",
      "--- Processing: Japanese ---\n",
      "File 'JMdict_e' already exists, skipping download...\n",
      "Inserted 1832 entries for Japanese in 4.17 seconds.\n",
      "\n",
      "--- Processing: Chinese ---\n",
      "File 'cedict_1_0_ts_utf-8_mdbg.txt' already exists, skipping download...\n",
      "Inserted 1010 entries for Chinese in 1.30 seconds.\n",
      "\n",
      "Database population complete. Data is stored in 'lang_db'.\n"
     ]
    }
   ],
   "source": [
    "populate_database()\n",
    "\n",
    "print(f\"\\nDatabase population complete. Data is stored in '{DB_CONFIG['dbname']}'.\")\n"
   ]
  },
  {
   "cell_type": "code",
   "execution_count": 3,
   "metadata": {},
   "outputs": [
    {
     "name": "stdout",
     "output_type": "stream",
     "text": [
      "\n",
      "Finding false friends between 'Japanese' and 'Chinese'...\n",
      "Found 14364 common words to analyze.\n",
      "Calculating semantic similarity using spaCy (this may take a moment)...\n"
     ]
    },
    {
     "name": "stderr",
     "output_type": "stream",
     "text": [
      "/Users/loky/Repositories/false_friends/lib/analysis.py:54: UserWarning: pandas only supports SQLAlchemy connectable (engine/connection) or database string URI or sqlite3 DBAPI2 connection. Other DBAPI2 objects are not tested. Please consider using SQLAlchemy.\n",
      "  df = pd.read_sql_query(query, conn, params=params)\n",
      "/Users/loky/Repositories/false_friends/lib/analysis.py:35: UserWarning: [W007] The model you're using has no word vectors loaded, so the result of the Doc.similarity method will be based on the tagger, parser and NER, which may not give useful similarity judgements. This may happen if you're using one of the small models, e.g. `en_core_web_sm`, which don't ship with word vectors and only use context-sensitive tensors. You can always add your own word vectors, or use one of the larger models instead if available.\n",
      "  return doc1.similarity(doc2)\n"
     ]
    },
    {
     "name": "stdout",
     "output_type": "stream",
     "text": [
      "Analysis complete. Found 13575 potential false friends.\n"
     ]
    },
    {
     "data": {
      "text/html": [
       "<div>\n",
       "<style scoped>\n",
       "    .dataframe tbody tr th:only-of-type {\n",
       "        vertical-align: middle;\n",
       "    }\n",
       "\n",
       "    .dataframe tbody tr th {\n",
       "        vertical-align: top;\n",
       "    }\n",
       "\n",
       "    .dataframe thead th {\n",
       "        text-align: right;\n",
       "    }\n",
       "</style>\n",
       "<table border=\"1\" class=\"dataframe\">\n",
       "  <thead>\n",
       "    <tr style=\"text-align: right;\">\n",
       "      <th></th>\n",
       "      <th>Word</th>\n",
       "      <th>Similarity</th>\n",
       "      <th>Japanese Definition</th>\n",
       "      <th>Chinese Definition</th>\n",
       "    </tr>\n",
       "  </thead>\n",
       "  <tbody>\n",
       "    <tr>\n",
       "      <th>5715</th>\n",
       "      <td>刀子</td>\n",
       "      <td>-0.226191</td>\n",
       "      <td>small knife that is largely ornamental or used to cut open letters and the like</td>\n",
       "      <td>knife; CL:把[ba3]</td>\n",
       "    </tr>\n",
       "    <tr>\n",
       "      <th>4052</th>\n",
       "      <td>疑似</td>\n",
       "      <td>-0.218098</td>\n",
       "      <td>pseudo; quasi; false; para-; mock; sham; suspected (case, e.g. of disease)</td>\n",
       "      <td>to be suspected to be</td>\n",
       "    </tr>\n",
       "    <tr>\n",
       "      <th>10578</th>\n",
       "      <td>唯</td>\n",
       "      <td>-0.149372</td>\n",
       "      <td>ordinary; common; usual; free of charge; unaffected; as is; safe; only; merely; just; simply; but; however; nevertheless</td>\n",
       "      <td>yes</td>\n",
       "    </tr>\n",
       "    <tr>\n",
       "      <th>11364</th>\n",
       "      <td>斑斑</td>\n",
       "      <td>-0.133899</td>\n",
       "      <td>irresistibly; suddenly; to be turned on; to be horny</td>\n",
       "      <td>full of stains or spots</td>\n",
       "    </tr>\n",
       "    <tr>\n",
       "      <th>13391</th>\n",
       "      <td>色子</td>\n",
       "      <td>-0.123282</td>\n",
       "      <td>kabuki actor who is also a male prostitute</td>\n",
       "      <td>dice (used in gambling)</td>\n",
       "    </tr>\n",
       "    <tr>\n",
       "      <th>...</th>\n",
       "      <td>...</td>\n",
       "      <td>...</td>\n",
       "      <td>...</td>\n",
       "      <td>...</td>\n",
       "    </tr>\n",
       "    <tr>\n",
       "      <th>11230</th>\n",
       "      <td>世</td>\n",
       "      <td>0.978963</td>\n",
       "      <td>world; society; public; life; lifetime; age; era; period; epoch; generation; reign; rule; the times; world (of existence)</td>\n",
       "      <td>life; age; generation; era; world; lifetime; epoch; descendant; noble</td>\n",
       "    </tr>\n",
       "    <tr>\n",
       "      <th>975</th>\n",
       "      <td>公国</td>\n",
       "      <td>0.979886</td>\n",
       "      <td>dukedom; duchy; principality</td>\n",
       "      <td>duchy; dukedom; principality</td>\n",
       "    </tr>\n",
       "    <tr>\n",
       "      <th>7310</th>\n",
       "      <td>水利部</td>\n",
       "      <td>0.980147</td>\n",
       "      <td>Ministry of Water Resources (China)</td>\n",
       "      <td>Ministry of Water Resources (PRC)</td>\n",
       "    </tr>\n",
       "    <tr>\n",
       "      <th>7747</th>\n",
       "      <td>各国</td>\n",
       "      <td>0.981416</td>\n",
       "      <td>each country; every country; various countries; all countries</td>\n",
       "      <td>each country; every country; various countries</td>\n",
       "    </tr>\n",
       "    <tr>\n",
       "      <th>2660</th>\n",
       "      <td>内出血</td>\n",
       "      <td>0.981721</td>\n",
       "      <td>internal bleeding; internal haemorrhage; internal hemorrhage</td>\n",
       "      <td>internal bleeding; internal hemorrhage</td>\n",
       "    </tr>\n",
       "  </tbody>\n",
       "</table>\n",
       "<p>13575 rows × 4 columns</p>\n",
       "</div>"
      ],
      "text/plain": [
       "      Word  Similarity                                                                                                        Japanese Definition                                                     Chinese Definition\n",
       "5715    刀子   -0.226191                                            small knife that is largely ornamental or used to cut open letters and the like                                                       knife; CL:把[ba3]\n",
       "4052    疑似   -0.218098                                                 pseudo; quasi; false; para-; mock; sham; suspected (case, e.g. of disease)                                                  to be suspected to be\n",
       "10578    唯   -0.149372   ordinary; common; usual; free of charge; unaffected; as is; safe; only; merely; just; simply; but; however; nevertheless                                                                    yes\n",
       "11364   斑斑   -0.133899                                                                       irresistibly; suddenly; to be turned on; to be horny                                                full of stains or spots\n",
       "13391   色子   -0.123282                                                                                 kabuki actor who is also a male prostitute                                                dice (used in gambling)\n",
       "...    ...         ...                                                                                                                        ...                                                                    ...\n",
       "11230    世    0.978963  world; society; public; life; lifetime; age; era; period; epoch; generation; reign; rule; the times; world (of existence)  life; age; generation; era; world; lifetime; epoch; descendant; noble\n",
       "975     公国    0.979886                                                                                               dukedom; duchy; principality                                           duchy; dukedom; principality\n",
       "7310   水利部    0.980147                                                                                        Ministry of Water Resources (China)                                      Ministry of Water Resources (PRC)\n",
       "7747    各国    0.981416                                                              each country; every country; various countries; all countries                         each country; every country; various countries\n",
       "2660   内出血    0.981721                                                               internal bleeding; internal haemorrhage; internal hemorrhage                                 internal bleeding; internal hemorrhage\n",
       "\n",
       "[13575 rows x 4 columns]"
      ]
     },
     "metadata": {},
     "output_type": "display_data"
    }
   ],
   "source": [
    "# --- Parameters for Analysis ---\n",
    "BASE_LANGUAGE = 'Japanese'\n",
    "TARGET_LANGUAGE = 'Chinese'\n",
    "SIMILARITY_THRESHOLD = 0.1 # Lower value = more results\n",
    "\n",
    "# Find false friends by querying the database\n",
    "results_df = find_all_false_friends(\n",
    "    base_language=BASE_LANGUAGE,\n",
    "    target_language=TARGET_LANGUAGE,\n",
    "    similarity_threshold=SIMILARITY_THRESHOLD\n",
    ")\n",
    "\n",
    "# Display results\n",
    "if not results_df.empty:\n",
    "    # Reorder columns for clarity and display the final DataFrame\n",
    "    display(results_df[['Word', 'Similarity', f'{BASE_LANGUAGE} Definition', f'{TARGET_LANGUAGE} Definition']].sort_values(by='Similarity'))\n",
    "else:\n",
    "    print(\"No results found for the given parameters.\")\n"
   ]
  }
 ],
 "metadata": {
  "kernelspec": {
   "display_name": ".venv",
   "language": "python",
   "name": "python3"
  },
  "language_info": {
   "codemirror_mode": {
    "name": "ipython",
    "version": 3
   },
   "file_extension": ".py",
   "mimetype": "text/x-python",
   "name": "python",
   "nbconvert_exporter": "python",
   "pygments_lexer": "ipython3",
   "version": "3.9.6"
  }
 },
 "nbformat": 4,
 "nbformat_minor": 2
}

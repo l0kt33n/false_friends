{
 "cells": [
  {
   "cell_type": "code",
   "execution_count": 3,
   "metadata": {},
   "outputs": [
    {
     "name": "stdout",
     "output_type": "stream",
     "text": [
      "Setup complete. Ready to load data.\n"
     ]
    }
   ],
   "source": [
    "# analysis.ipynb cell (Final version)\n",
    "import pandas as pd\n",
    "import sys\n",
    "import os\n",
    "\n",
    "# Add the project's root directory to the Python path\n",
    "module_path = os.path.abspath(os.path.join('..'))\n",
    "if module_path not in sys.path:\n",
    "    sys.path.append(module_path)\n",
    "\n",
    "from lib.data_loader import populate_database\n",
    "from lib.analysis import find_all_false_friends\n",
    "from lib.config import DB_CONFIG\n",
    "\n",
    "# Set pandas display options\n",
    "pd.set_option('display.max_rows', 200)\n",
    "pd.set_option('display.max_colwidth', 200)\n",
    "pd.set_option('display.width', 1000)\n",
    "\n",
    "print(\"Setup complete. Ready to load data.\")\n"
   ]
  },
  {
   "cell_type": "code",
   "execution_count": 4,
   "metadata": {},
   "outputs": [
    {
     "name": "stdout",
     "output_type": "stream",
     "text": [
      "Initializing database 'lang_db'...\n",
      "Database initialized successfully.\n",
      "\n",
      "--- Processing: Japanese ---\n",
      "Downloading to 'JMdict_e'...\n",
      "An error occurred while processing Japanese: not well-formed (invalid token): line 1, column 0\n",
      "\n",
      "--- Processing: Chinese ---\n",
      "Downloading to 'cedict_1_0_ts_utf-8_mdbg.txt'...\n",
      "An error occurred while processing Chinese: 'utf-8' codec can't decode byte 0x8b in position 1: invalid start byte\n",
      "\n",
      "Database population complete. Data is stored in 'lang_db'.\n"
     ]
    }
   ],
   "source": [
    "populate_database()\n",
    "\n",
    "print(f\"\\nDatabase population complete. Data is stored in '{DB_CONFIG['dbname']}'.\")\n"
   ]
  },
  {
   "cell_type": "code",
   "execution_count": 5,
   "metadata": {},
   "outputs": [
    {
     "name": "stdout",
     "output_type": "stream",
     "text": [
      "\n",
      "Finding false friends between 'Japanese' and 'Chinese'...\n",
      "Found 0 common words to analyze.\n",
      "No results found for the given parameters.\n"
     ]
    },
    {
     "name": "stderr",
     "output_type": "stream",
     "text": [
      "/Users/loky/Repositories/false_friends/lib/analysis.py:33: UserWarning: pandas only supports SQLAlchemy connectable (engine/connection) or database string URI or sqlite3 DBAPI2 connection. Other DBAPI2 objects are not tested. Please consider using SQLAlchemy.\n",
      "  df = pd.read_sql_query(query, conn, params=params)\n"
     ]
    }
   ],
   "source": [
    "# --- Parameters for Analysis ---\n",
    "BASE_LANGUAGE = 'Japanese'\n",
    "TARGET_LANGUAGE = 'Chinese'\n",
    "SIMILARITY_THRESHOLD = 0.1 # Lower value = more results\n",
    "\n",
    "# Find false friends by querying the database\n",
    "results_df = find_all_false_friends(\n",
    "    base_language=BASE_LANGUAGE,\n",
    "    target_language=TARGET_LANGUAGE,\n",
    "    similarity_threshold=SIMILARITY_THRESHOLD\n",
    ")\n",
    "\n",
    "# Display results\n",
    "if not results_df.empty:\n",
    "    # Reorder columns for clarity and display the final DataFrame\n",
    "    display(results_df[['Word', 'Similarity', f'{BASE_LANGUAGE} Definition', f'{TARGET_LANGUAGE} Definition']].sort_values(by='Similarity'))\n",
    "else:\n",
    "    print(\"No results found for the given parameters.\")\n"
   ]
  }
 ],
 "metadata": {
  "kernelspec": {
   "display_name": ".venv",
   "language": "python",
   "name": "python3"
  },
  "language_info": {
   "codemirror_mode": {
    "name": "ipython",
    "version": 3
   },
   "file_extension": ".py",
   "mimetype": "text/x-python",
   "name": "python",
   "nbconvert_exporter": "python",
   "pygments_lexer": "ipython3",
   "version": "3.9.6"
  }
 },
 "nbformat": 4,
 "nbformat_minor": 2
}

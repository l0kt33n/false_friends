{
 "cells": [
  {
   "cell_type": "code",
   "execution_count": 1,
   "metadata": {},
   "outputs": [
    {
     "name": "stdout",
     "output_type": "stream",
     "text": [
      "Setup complete. Ready to load data.\n"
     ]
    },
    {
     "name": "stderr",
     "output_type": "stream",
     "text": [
      "/Users/loky/Repositories/false_friends/.venv/lib/python3.9/site-packages/urllib3/__init__.py:35: NotOpenSSLWarning: urllib3 v2 only supports OpenSSL 1.1.1+, currently the 'ssl' module is compiled with 'LibreSSL 2.8.3'. See: https://github.com/urllib3/urllib3/issues/3020\n",
      "  warnings.warn(\n"
     ]
    }
   ],
   "source": [
    "# analysis.ipynb cell (Final version)\n",
    "import pandas as pd\n",
    "import sys\n",
    "import os\n",
    "\n",
    "# Add the project's root directory to the Python path\n",
    "module_path = os.path.abspath(os.path.join('..'))\n",
    "if module_path not in sys.path:\n",
    "    sys.path.append(module_path)\n",
    "\n",
    "from lib.data_loader import populate_database\n",
    "from lib.analysis import find_all_false_friends\n",
    "from lib.config import DB_CONFIG\n",
    "\n",
    "# Set pandas display options\n",
    "pd.set_option('display.max_rows', 200)\n",
    "pd.set_option('display.max_colwidth', 200)\n",
    "pd.set_option('display.width', 1000)\n",
    "\n",
    "print(\"Setup complete. Ready to load data.\")\n"
   ]
  },
  {
   "cell_type": "code",
   "execution_count": 2,
   "metadata": {},
   "outputs": [
    {
     "name": "stdout",
     "output_type": "stream",
     "text": [
      "Initializing database 'lang_db'...\n",
      "Database initialized successfully.\n",
      "\n",
      "--- Processing: Japanese ---\n",
      "File 'JMdict_e' already exists, skipping download...\n",
      "Inserted 80 entries for Japanese in 3.99 seconds.\n",
      "\n",
      "--- Processing: Chinese ---\n",
      "File 'cedict_1_0_ts_utf-8_mdbg.txt' already exists, skipping download...\n",
      "Inserted 1383 entries for Chinese in 1.22 seconds.\n",
      "\n",
      "Database population complete. Data is stored in 'lang_db'.\n"
     ]
    }
   ],
   "source": [
    "populate_database()\n",
    "\n",
    "print(f\"\\nDatabase population complete. Data is stored in '{DB_CONFIG['dbname']}'.\")\n"
   ]
  },
  {
   "cell_type": "code",
   "execution_count": null,
   "metadata": {},
   "outputs": [
    {
     "name": "stdout",
     "output_type": "stream",
     "text": [
      "\n",
      "Finding false friends between 'Japanese' and 'Chinese'...\n",
      "Found 15757 common words to analyze.\n",
      "Analysis complete. Found 7525 potential false friends.\n"
     ]
    },
    {
     "name": "stderr",
     "output_type": "stream",
     "text": [
      "/Users/loky/Repositories/false_friends/lib/analysis.py:33: UserWarning: pandas only supports SQLAlchemy connectable (engine/connection) or database string URI or sqlite3 DBAPI2 connection. Other DBAPI2 objects are not tested. Please consider using SQLAlchemy.\n",
      "  df = pd.read_sql_query(query, conn, params=params)\n"
     ]
    },
    {
     "data": {
      "text/html": [
       "<div>\n",
       "<style scoped>\n",
       "    .dataframe tbody tr th:only-of-type {\n",
       "        vertical-align: middle;\n",
       "    }\n",
       "\n",
       "    .dataframe tbody tr th {\n",
       "        vertical-align: top;\n",
       "    }\n",
       "\n",
       "    .dataframe thead th {\n",
       "        text-align: right;\n",
       "    }\n",
       "</style>\n",
       "<table border=\"1\" class=\"dataframe\">\n",
       "  <thead>\n",
       "    <tr style=\"text-align: right;\">\n",
       "      <th></th>\n",
       "      <th>Word</th>\n",
       "      <th>Similarity</th>\n",
       "      <th>Japanese Definition</th>\n",
       "      <th>Chinese Definition</th>\n",
       "    </tr>\n",
       "  </thead>\n",
       "  <tbody>\n",
       "    <tr>\n",
       "      <th>8357</th>\n",
       "      <td>翳</td>\n",
       "      <td>0.000000</td>\n",
       "      <td>shade; shadow; behind (something); other side; back; the background; behind the scenes; behind someone's back; gloom (in someone's expression, nature, etc.); darkness</td>\n",
       "      <td>variant of 翳[yi4]</td>\n",
       "    </tr>\n",
       "    <tr>\n",
       "      <th>10228</th>\n",
       "      <td>私行</td>\n",
       "      <td>0.000000</td>\n",
       "      <td>personal conduct</td>\n",
       "      <td>to travel on private business; to act without official approval; to inspect incognito; to act in one's own interest</td>\n",
       "    </tr>\n",
       "    <tr>\n",
       "      <th>10217</th>\n",
       "      <td>成文法</td>\n",
       "      <td>0.000000</td>\n",
       "      <td>written law; statutory law</td>\n",
       "      <td>statute</td>\n",
       "    </tr>\n",
       "    <tr>\n",
       "      <th>10215</th>\n",
       "      <td>地籍</td>\n",
       "      <td>0.000000</td>\n",
       "      <td>land register</td>\n",
       "      <td>cadaster</td>\n",
       "    </tr>\n",
       "    <tr>\n",
       "      <th>10211</th>\n",
       "      <td>地祇</td>\n",
       "      <td>0.000000</td>\n",
       "      <td>gods of the land; earthly deities</td>\n",
       "      <td>earth spirit</td>\n",
       "    </tr>\n",
       "    <tr>\n",
       "      <th>...</th>\n",
       "      <td>...</td>\n",
       "      <td>...</td>\n",
       "      <td>...</td>\n",
       "      <td>...</td>\n",
       "    </tr>\n",
       "    <tr>\n",
       "      <th>7170</th>\n",
       "      <td>瓣</td>\n",
       "      <td>0.097561</td>\n",
       "      <td>speech; tongue; talk; eloquence; dialect; brogue; accent; bento; Japanese box lunch; petal; valve; Oversight Department; division of the daijokan under the ritsuryō system responsible for controll...</td>\n",
       "      <td>petal; segment; clove (of garlic); piece; section; fragment; valve; lamella; classifier for pieces, segments etc</td>\n",
       "    </tr>\n",
       "    <tr>\n",
       "      <th>594</th>\n",
       "      <td>一</td>\n",
       "      <td>0.097561</td>\n",
       "      <td>one; 1; best; first; foremost; beginning; start; a (single); one (of many); ace; bottom string (on a shamisen, etc.)</td>\n",
       "      <td>one; single; a (article); as soon as; entire; whole; all; throughout; \"one\" radical in Chinese characters (Kangxi radical 1); also pr. [yao1] for greater clarity when spelling out numbers digit by...</td>\n",
       "    </tr>\n",
       "    <tr>\n",
       "      <th>6617</th>\n",
       "      <td>本</td>\n",
       "      <td>0.098039</td>\n",
       "      <td>book; volume; script; this; present; current; ... in question; ... at issue; main; head; principal; real; genuine; regular; proper; counter for long, cylindrical things; counter for films, TV show...</td>\n",
       "      <td>(bound form) root; stem; (bound form) origin; source; (bound form) one's own; this; (bound form) this; the current (year etc); (bound form) original; (bound form) inherent; originally; initially; ...</td>\n",
       "    </tr>\n",
       "    <tr>\n",
       "      <th>11744</th>\n",
       "      <td>毛</td>\n",
       "      <td>0.098039</td>\n",
       "      <td>one-thousandth; 0.03 mm (one-thousandth of a sun); 0.01 percent (one-thousandth of a wari); 3.75 milligrams (one-thousandth of a monme); old monetary unit (0.0001 yen)</td>\n",
       "      <td>hair; feather; down; wool; mildew; mold; coarse or semifinished; young; raw; careless; unthinking; nervous; scared; (of currency) to devalue or depreciate; classifier for Chinese fractional moneta...</td>\n",
       "    </tr>\n",
       "    <tr>\n",
       "      <th>5791</th>\n",
       "      <td>派</td>\n",
       "      <td>0.098361</td>\n",
       "      <td>group; faction; clique; coterie; (political) faction; wing; camp; school (of thought, painting, etc.); sect; denomination</td>\n",
       "      <td>(literary) tributary; branch of a river; clique; school; group; faction; (bound form) style; manner; to send (a person or resource); to dispatch; to allocate (a resource or task); to appoint (sb);...</td>\n",
       "    </tr>\n",
       "  </tbody>\n",
       "</table>\n",
       "<p>7525 rows × 4 columns</p>\n",
       "</div>"
      ],
      "text/plain": [
       "      Word  Similarity                                                                                                                                                                                      Japanese Definition                                                                                                                                                                                       Chinese Definition\n",
       "8357     翳    0.000000                                   shade; shadow; behind (something); other side; back; the background; behind the scenes; behind someone's back; gloom (in someone's expression, nature, etc.); darkness                                                                                                                                                                                        variant of 翳[yi4]\n",
       "10228   私行    0.000000                                                                                                                                                                                         personal conduct                                                                                      to travel on private business; to act without official approval; to inspect incognito; to act in one's own interest\n",
       "10217  成文法    0.000000                                                                                                                                                                               written law; statutory law                                                                                                                                                                                                  statute\n",
       "10215   地籍    0.000000                                                                                                                                                                                            land register                                                                                                                                                                                                 cadaster\n",
       "10211   地祇    0.000000                                                                                                                                                                        gods of the land; earthly deities                                                                                                                                                                                             earth spirit\n",
       "...    ...         ...                                                                                                                                                                                                      ...                                                                                                                                                                                                      ...\n",
       "7170     瓣    0.097561  speech; tongue; talk; eloquence; dialect; brogue; accent; bento; Japanese box lunch; petal; valve; Oversight Department; division of the daijokan under the ritsuryō system responsible for controll...                                                                                         petal; segment; clove (of garlic); piece; section; fragment; valve; lamella; classifier for pieces, segments etc\n",
       "594      一    0.097561                                                                                     one; 1; best; first; foremost; beginning; start; a (single); one (of many); ace; bottom string (on a shamisen, etc.)  one; single; a (article); as soon as; entire; whole; all; throughout; \"one\" radical in Chinese characters (Kangxi radical 1); also pr. [yao1] for greater clarity when spelling out numbers digit by...\n",
       "6617     本    0.098039  book; volume; script; this; present; current; ... in question; ... at issue; main; head; principal; real; genuine; regular; proper; counter for long, cylindrical things; counter for films, TV show...  (bound form) root; stem; (bound form) origin; source; (bound form) one's own; this; (bound form) this; the current (year etc); (bound form) original; (bound form) inherent; originally; initially; ...\n",
       "11744    毛    0.098039                                  one-thousandth; 0.03 mm (one-thousandth of a sun); 0.01 percent (one-thousandth of a wari); 3.75 milligrams (one-thousandth of a monme); old monetary unit (0.0001 yen)  hair; feather; down; wool; mildew; mold; coarse or semifinished; young; raw; careless; unthinking; nervous; scared; (of currency) to devalue or depreciate; classifier for Chinese fractional moneta...\n",
       "5791     派    0.098361                                                                                group; faction; clique; coterie; (political) faction; wing; camp; school (of thought, painting, etc.); sect; denomination  (literary) tributary; branch of a river; clique; school; group; faction; (bound form) style; manner; to send (a person or resource); to dispatch; to allocate (a resource or task); to appoint (sb);...\n",
       "\n",
       "[7525 rows x 4 columns]"
      ]
     },
     "metadata": {},
     "output_type": "display_data"
    }
   ],
   "source": [
    "# --- Parameters for Analysis ---\n",
    "BASE_LANGUAGE = 'Japanese'\n",
    "TARGET_LANGUAGE = 'Chinese'\n",
    "SIMILARITY_THRESHOLD = 0.01 # Lower value = more results\n",
    "\n",
    "# Find false friends by querying the database\n",
    "results_df = find_all_false_friends(\n",
    "    base_language=BASE_LANGUAGE,\n",
    "    target_language=TARGET_LANGUAGE,\n",
    "    similarity_threshold=SIMILARITY_THRESHOLD\n",
    ")\n",
    "\n",
    "# Display results\n",
    "if not results_df.empty:\n",
    "    # Reorder columns for clarity and display the final DataFrame\n",
    "    display(results_df[['Word', 'Similarity', f'{BASE_LANGUAGE} Definition', f'{TARGET_LANGUAGE} Definition']].sort_values(by='Similarity'))\n",
    "else:\n",
    "    print(\"No results found for the given parameters.\")\n"
   ]
  }
 ],
 "metadata": {
  "kernelspec": {
   "display_name": ".venv",
   "language": "python",
   "name": "python3"
  },
  "language_info": {
   "codemirror_mode": {
    "name": "ipython",
    "version": 3
   },
   "file_extension": ".py",
   "mimetype": "text/x-python",
   "name": "python",
   "nbconvert_exporter": "python",
   "pygments_lexer": "ipython3",
   "version": "3.9.6"
  }
 },
 "nbformat": 4,
 "nbformat_minor": 2
}
